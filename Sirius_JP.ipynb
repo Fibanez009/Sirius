{
 "cells": [
  {
   "cell_type": "markdown",
   "metadata": {},
   "source": [
    "# Proyecto Sirius - Facturación\n",
    "### Carga de librerias y limpieza del explorador de variables\n"
   ]
  },
  {
   "cell_type": "code",
   "execution_count": 1,
   "metadata": {},
   "outputs": [
    {
     "name": "stdout",
     "output_type": "stream",
     "text": [
      "\f\n",
      "Version:  2.6.0\n",
      "Version:  1.1.3\n",
      "Version:  0.11.0\n"
     ]
    }
   ],
   "source": [
    "# Limpieza del explorador de variables\n",
    "try:\n",
    "    from IPython import get_ipython\n",
    "    get_ipython().magic('clear')\n",
    "    get_ipython().magic('reset -f')\n",
    "except:\n",
    "    pass\n",
    "\n",
    "# Carga de librerias\n",
    "import os\n",
    "import pandas as pd\n",
    "import seaborn as sns\n",
    "from matplotlib import pyplot as plt\n",
    "import numpy as np\n",
    "import time\n",
    "import tensorflow as tf\n",
    "import scipy.stats as stats\n",
    "from datetime import datetime, timedelta, date\n",
    "import re\n",
    "\n",
    "# Versiones\n",
    "print(\"Version: \", tf.__version__)\n",
    "print(\"Version: \", pd .__version__)\n",
    "print(\"Version: \", sns .__version__)\n",
    "# print(tf.keras.__version__)\n",
    "plt.style.use('ggplot')\n",
    "plt.close('all')"
   ]
  },
  {
   "cell_type": "code",
   "execution_count": 3,
   "metadata": {},
   "outputs": [],
   "source": []
  }
 ],
 "metadata": {
  "interpreter": {
   "hash": "62e764ecc10c17244b1ce462e5ca9fc5bb8309a0219937d5d54125d894e692a5"
  },
  "kernelspec": {
   "display_name": "Python 3.7.11 64-bit ('tensorflow2': conda)",
   "language": "python",
   "name": "python3"
  },
  "language_info": {
   "codemirror_mode": {
    "name": "ipython",
    "version": 3
   },
   "file_extension": ".py",
   "mimetype": "text/x-python",
   "name": "python",
   "nbconvert_exporter": "python",
   "pygments_lexer": "ipython3",
   "version": "3.7.11"
  },
  "orig_nbformat": 4
 },
 "nbformat": 4,
 "nbformat_minor": 2
}
